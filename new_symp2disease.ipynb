{
 "cells": [
  {
   "cell_type": "code",
   "execution_count": null,
   "metadata": {
    "colab": {
     "base_uri": "https://localhost:8080/"
    },
    "id": "Z7n__8gLD0Fi",
    "outputId": "13bd2be3-8345-44d7-d942-f85a54e4cc4e"
   },
   "outputs": [],
   "source": [
    "pip install gradio"
   ]
  },
  {
   "cell_type": "markdown",
   "metadata": {
    "id": "pfzy8WdkkjVZ"
   },
   "source": [
    "# Import Libraries"
   ]
  },
  {
   "cell_type": "code",
   "execution_count": null,
   "metadata": {
    "colab": {
     "base_uri": "https://localhost:8080/"
    },
    "id": "kw5ABr7GzgbD",
    "outputId": "99aae0c7-722e-4e79-e169-ab2f5b4a002e"
   },
   "outputs": [],
   "source": [
    "import pandas as pd\n",
    "import matplotlib.pyplot as plt\n",
    "from sklearn.model_selection import train_test_split\n",
    "import torch\n",
    "import nltk_utils"
   ]
  },
  {
   "cell_type": "markdown",
   "metadata": {
    "id": "Y1RoA7N_kpfX"
   },
   "source": [
    "# Data Exploration"
   ]
  },
  {
   "cell_type": "code",
   "execution_count": null,
   "metadata": {
    "colab": {
     "base_uri": "https://localhost:8080/",
     "height": 206
    },
    "id": "4lDtHIIczxMh",
    "outputId": "fe1ccf94-39d6-4b90-991f-e64d6fc3cf47"
   },
   "outputs": [],
   "source": [
    "# import data\n",
    "df= pd.read_csv('Symptom2Disease.csv')\n",
    "df.head()"
   ]
  },
  {
   "cell_type": "code",
   "execution_count": null,
   "metadata": {
    "colab": {
     "base_uri": "https://localhost:8080/"
    },
    "id": "5FDdahbZz0Wf",
    "outputId": "3526cb7b-8e7c-49cd-a8a3-8f303b77b324"
   },
   "outputs": [],
   "source": [
    "df.info()"
   ]
  },
  {
   "cell_type": "code",
   "execution_count": null,
   "metadata": {
    "colab": {
     "base_uri": "https://localhost:8080/"
    },
    "id": "XODx9gyQz3dy",
    "outputId": "f1a9012f-e656-4a3d-d3ca-4283c139d635"
   },
   "outputs": [],
   "source": [
    "# Check for data classes\n",
    "df['label'].nunique()"
   ]
  },
  {
   "cell_type": "code",
   "execution_count": null,
   "metadata": {
    "colab": {
     "base_uri": "https://localhost:8080/"
    },
    "id": "RicfgpBfz62x",
    "outputId": "99a3746f-9084-429b-8302-73b11a7d8c41"
   },
   "outputs": [],
   "source": [
    "a= [df['label'].unique()]\n",
    "print(a)"
   ]
  },
  {
   "cell_type": "code",
   "execution_count": null,
   "metadata": {
    "id": "3lMkNCJjz-TK"
   },
   "outputs": [],
   "source": [
    "# sort target data\n",
    "target=['Psoriasis', 'Varicose Veins', 'Typhoid', 'Chicken pox',\n",
    "       'Impetigo', 'Dengue', 'Fungal infection', 'Common Cold',\n",
    "       'Pneumonia', 'Dimorphic Hemorrhoids', 'Arthritis', 'Acne',\n",
    "       'Bronchial Asthma', 'Hypertension', 'Migraine',\n",
    "       'Cervical spondylosis', 'Jaundice', 'Malaria',\n",
    "       'urinary tract infection', 'allergy',\n",
    "       'gastroesophageal reflux disease', 'drug reaction',\n",
    "       'peptic ulcer disease', 'diabetes']\n",
    "real_target= sorted(target)"
   ]
  },
  {
   "cell_type": "code",
   "execution_count": null,
   "metadata": {
    "colab": {
     "base_uri": "https://localhost:8080/"
    },
    "id": "Fy-8tI6Lvl8L",
    "outputId": "c606a4d7-4462-43ec-b417-e2ef437e29a1"
   },
   "outputs": [],
   "source": [
    "real_target"
   ]
  },
  {
   "cell_type": "code",
   "execution_count": null,
   "metadata": {
    "colab": {
     "base_uri": "https://localhost:8080/"
    },
    "id": "zXKfP11m0CfF",
    "outputId": "14a5a06f-db7d-42f8-c245-dc2847e30b21"
   },
   "outputs": [],
   "source": [
    "target_dict= {i:j for i,j in enumerate(sorted(target))}\n",
    "target_dict"
   ]
  },
  {
   "cell_type": "code",
   "execution_count": null,
   "metadata": {
    "id": "_jGNr54w0MG6"
   },
   "outputs": [],
   "source": [
    "df['label']= df['label'].replace({j:i for i,j in enumerate(sorted(target))})"
   ]
  },
  {
   "cell_type": "code",
   "execution_count": null,
   "metadata": {
    "colab": {
     "base_uri": "https://localhost:8080/",
     "height": 206
    },
    "id": "dZWf1flT0bBZ",
    "outputId": "8ec9dfe3-3fd1-46e7-da3b-621ee01509e6"
   },
   "outputs": [],
   "source": [
    "df.head()"
   ]
  },
  {
   "cell_type": "code",
   "execution_count": null,
   "metadata": {
    "id": "J4rvU7zn0eTJ"
   },
   "outputs": [],
   "source": [
    "df.drop('Unnamed: 0', axis= 1, inplace= True)"
   ]
  },
  {
   "cell_type": "code",
   "execution_count": null,
   "metadata": {
    "colab": {
     "base_uri": "https://localhost:8080/"
    },
    "id": "wYhQdWRW0jwy",
    "outputId": "72434333-517f-4271-b868-f8296074df08"
   },
   "outputs": [],
   "source": [
    "df.duplicated().sum()"
   ]
  },
  {
   "cell_type": "code",
   "execution_count": null,
   "metadata": {
    "colab": {
     "base_uri": "https://localhost:8080/",
     "height": 1000
    },
    "id": "WTUzzKbb0ogZ",
    "outputId": "4f7b0388-ba04-4629-ec50-358383d97306"
   },
   "outputs": [],
   "source": [
    "df[df.duplicated]"
   ]
  },
  {
   "cell_type": "code",
   "execution_count": null,
   "metadata": {
    "id": "LnR_tvss0riM"
   },
   "outputs": [],
   "source": [
    "df.drop_duplicates(inplace= True)"
   ]
  },
  {
   "cell_type": "code",
   "execution_count": null,
   "metadata": {
    "colab": {
     "base_uri": "https://localhost:8080/"
    },
    "id": "P7Qv1XLn0v8g",
    "outputId": "0061f0c5-df45-48fe-becd-cac01a2027b0"
   },
   "outputs": [],
   "source": [
    "df['label'].value_counts()"
   ]
  },
  {
   "cell_type": "code",
   "execution_count": null,
   "metadata": {
    "id": "P6R_UB3p0zLG"
   },
   "outputs": [],
   "source": [
    "train_data, test_data= train_test_split(df, test_size=0.15, random_state=42 )"
   ]
  },
  {
   "cell_type": "code",
   "execution_count": null,
   "metadata": {
    "colab": {
     "base_uri": "https://localhost:8080/"
    },
    "id": "SNi-gm0Z03Z6",
    "outputId": "a91a0bc5-00dc-450f-cb37-b821aec82296"
   },
   "outputs": [],
   "source": [
    "train_data.info()"
   ]
  },
  {
   "cell_type": "code",
   "execution_count": null,
   "metadata": {
    "colab": {
     "base_uri": "https://localhost:8080/"
    },
    "id": "QC_xSoD51CTL",
    "outputId": "5a15326a-ba4c-4896-b428-7e175a1a67c3"
   },
   "outputs": [],
   "source": [
    "test_data.info()"
   ]
  },
  {
   "cell_type": "code",
   "execution_count": null,
   "metadata": {
    "colab": {
     "base_uri": "https://localhost:8080/"
    },
    "id": "4FaxbciD1El2",
    "outputId": "69423719-3cab-4122-cc7b-5abfdeddde49"
   },
   "outputs": [],
   "source": [
    "train_data['label'].value_counts().sort_index()"
   ]
  },
  {
   "cell_type": "code",
   "execution_count": null,
   "metadata": {
    "colab": {
     "base_uri": "https://localhost:8080/"
    },
    "id": "2y54iXig1LqJ",
    "outputId": "ca536083-4ad4-4ba0-838f-3759eca9e552"
   },
   "outputs": [],
   "source": [
    "test_data['label'].value_counts().sort_index()"
   ]
  },
  {
   "cell_type": "markdown",
   "metadata": {
    "id": "2PYVVpB2lBdh"
   },
   "source": [
    "## Prepare data for training\n",
    "\n",
    "- Convert Text to TF-IDF Vectors\n",
    "- Convert Vectors to Pytorch Tensors\n",
    "- Convert tensors to pytorch dataloaders"
   ]
  },
  {
   "cell_type": "markdown",
   "metadata": {
    "id": "pmViJWyClSEL"
   },
   "source": [
    "## Convert text to vectors"
   ]
  },
  {
   "cell_type": "code",
   "execution_count": null,
   "metadata": {
    "id": "P6bbmklS1q-q"
   },
   "outputs": [],
   "source": [
    "vectorizer= nltk_utils.vectorizer()"
   ]
  },
  {
   "cell_type": "code",
   "execution_count": null,
   "metadata": {
    "colab": {
     "base_uri": "https://localhost:8080/",
     "height": 271
    },
    "id": "5wCPe7oI2I8K",
    "outputId": "0946fb17-7aa2-4dc9-9014-4717e2d3bfb7"
   },
   "outputs": [],
   "source": [
    "vectorizer.fit(train_data.text)"
   ]
  },
  {
   "cell_type": "code",
   "execution_count": null,
   "metadata": {
    "id": "Tatp2DyG2LQF"
   },
   "outputs": [],
   "source": [
    "vectorizer.get_feature_names_out()[: 100]\n",
    "vectorizer= vectorizer"
   ]
  },
  {
   "cell_type": "code",
   "execution_count": null,
   "metadata": {
    "colab": {
     "base_uri": "https://localhost:8080/",
     "height": 179
    },
    "id": "Nql0ED231MlT",
    "outputId": "bd9f5dd5-704e-4cb0-8a96-2f573630f474"
   },
   "outputs": [],
   "source": [
    "vectorizer"
   ]
  },
  {
   "cell_type": "code",
   "execution_count": null,
   "metadata": {
    "id": "-DWLYaEQ2iq-"
   },
   "outputs": [],
   "source": [
    "data_input= vectorizer.transform(train_data.text)\n",
    "test_data_input= vectorizer.transform(test_data.text)"
   ]
  },
  {
   "cell_type": "code",
   "execution_count": null,
   "metadata": {
    "colab": {
     "base_uri": "https://localhost:8080/"
    },
    "id": "PY58z-TP2nl9",
    "outputId": "78f4a228-928b-417f-9b2c-4d43d490a4ba"
   },
   "outputs": [],
   "source": [
    "data_input.shape, test_data_input.shape"
   ]
  },
  {
   "cell_type": "code",
   "execution_count": null,
   "metadata": {
    "colab": {
     "base_uri": "https://localhost:8080/"
    },
    "id": "arlW5Guj2uX9",
    "outputId": "478cfdb0-0bd0-41b3-a8cc-8658fae3ee10"
   },
   "outputs": [],
   "source": [
    "data_input[0]"
   ]
  },
  {
   "cell_type": "code",
   "execution_count": null,
   "metadata": {
    "id": "pk9EQnAD2ymM"
   },
   "outputs": [],
   "source": [
    "# Convert vectors to tensors\n",
    "input_data_tensors= torch.tensor(data_input.toarray()).to(torch.float32)\n",
    "test_data_tensors= torch.tensor(test_data_input.toarray()).to(torch.float32)"
   ]
  },
  {
   "cell_type": "code",
   "execution_count": null,
   "metadata": {
    "colab": {
     "base_uri": "https://localhost:8080/"
    },
    "id": "r3SVyRWnEkUU",
    "outputId": "9b01184a-5c6a-4e9d-f882-26a25175aa76"
   },
   "outputs": [],
   "source": [
    "input_data_tensors.shape, input_data_tensors.dtype"
   ]
  },
  {
   "cell_type": "code",
   "execution_count": null,
   "metadata": {
    "colab": {
     "base_uri": "https://localhost:8080/"
    },
    "id": "UqcyhYtUGR7U",
    "outputId": "a7b647a9-28d3-45a7-d19b-828851ebf3b7"
   },
   "outputs": [],
   "source": [
    "test_data_tensors.shape,test_data_tensors.dtype"
   ]
  },
  {
   "cell_type": "code",
   "execution_count": null,
   "metadata": {
    "id": "IA1WGNVnGVJY"
   },
   "outputs": [],
   "source": [
    "train_data_output= torch.tensor(train_data['label'].values)\n",
    "test_data_output= torch.tensor(test_data['label'].values)"
   ]
  },
  {
   "cell_type": "code",
   "execution_count": null,
   "metadata": {
    "colab": {
     "base_uri": "https://localhost:8080/"
    },
    "id": "tuXUxwpcGZVd",
    "outputId": "2b53d03d-bbc6-4304-cc4c-f60691194d4e"
   },
   "outputs": [],
   "source": [
    "train_data_output.shape, test_data_output.shape"
   ]
  },
  {
   "cell_type": "markdown",
   "metadata": {
    "id": "vj0VK9NnGfCj"
   },
   "source": [
    "## Join input and target data together and create dataloaders"
   ]
  },
  {
   "cell_type": "code",
   "execution_count": null,
   "metadata": {
    "id": "CFXBkZuBGnpd"
   },
   "outputs": [],
   "source": [
    "import preprocess_data\n",
    "import model"
   ]
  },
  {
   "cell_type": "code",
   "execution_count": null,
   "metadata": {
    "id": "T8CCIT5yGshH"
   },
   "outputs": [],
   "source": [
    "train_dataset= preprocess_data.preprocess_data(input_data_tensors, train_data_output)\n",
    "test_dataset= preprocess_data.preprocess_data(test_data_tensors, test_data_output)"
   ]
  },
  {
   "cell_type": "code",
   "execution_count": null,
   "metadata": {
    "colab": {
     "base_uri": "https://localhost:8080/"
    },
    "id": "gP8SZWE8Gvkv",
    "outputId": "62bbcf77-8e89-4f08-e099-7e1a845fc357"
   },
   "outputs": [],
   "source": [
    "train_dataset[0]"
   ]
  },
  {
   "cell_type": "code",
   "execution_count": null,
   "metadata": {
    "id": "wA6eMHITGzt8"
   },
   "outputs": [],
   "source": [
    "train_dataloader= preprocess_data.dataloader(dataset=train_dataset,\n",
    "                                             batch_size=32, shuffle= True, num_workers=2)\n",
    "test_dataloader= preprocess_data.dataloader(dataset=test_dataset,\n",
    "                                             batch_size=32, shuffle= False, num_workers=2)"
   ]
  },
  {
   "cell_type": "code",
   "execution_count": null,
   "metadata": {
    "colab": {
     "base_uri": "https://localhost:8080/"
    },
    "id": "o_GMPlh-LIuU",
    "outputId": "68c3229c-af7c-4dbc-ffbf-9fe40af61137"
   },
   "outputs": [],
   "source": [
    "len(train_dataloader), len(test_dataloader)"
   ]
  },
  {
   "cell_type": "code",
   "execution_count": null,
   "metadata": {
    "id": "Y26dkRSRLZsi"
   },
   "outputs": [],
   "source": [
    "text, target= next(iter(train_dataloader))"
   ]
  },
  {
   "cell_type": "code",
   "execution_count": null,
   "metadata": {
    "colab": {
     "base_uri": "https://localhost:8080/"
    },
    "id": "X1KEYvGILexu",
    "outputId": "b3e108e3-d041-4489-9a4b-106e5dc75dee"
   },
   "outputs": [],
   "source": [
    "text.shape, target.shape"
   ]
  },
  {
   "cell_type": "code",
   "execution_count": null,
   "metadata": {
    "colab": {
     "base_uri": "https://localhost:8080/",
     "height": 36
    },
    "id": "rkaKKB_e8y85",
    "outputId": "522453b1-aadf-4814-ea78-06ede1a6273a"
   },
   "outputs": [],
   "source": [
    "device= 'cuda' if torch.cuda.is_available() else 'cpu'\n",
    "device"
   ]
  },
  {
   "cell_type": "code",
   "execution_count": null,
   "metadata": {
    "id": "fUbWo4-M8zbQ"
   },
   "outputs": [],
   "source": [
    "model= model.RNN_model()"
   ]
  },
  {
   "cell_type": "code",
   "execution_count": null,
   "metadata": {
    "colab": {
     "base_uri": "https://localhost:8080/"
    },
    "id": "bMQUuV1Z8zq8",
    "outputId": "d2bda840-01af-4186-ade5-d8089cdb8d46"
   },
   "outputs": [],
   "source": [
    "dummy_x= torch.rand(size= [1,1080])\n",
    "dummy_x.shape"
   ]
  },
  {
   "cell_type": "code",
   "execution_count": null,
   "metadata": {
    "colab": {
     "base_uri": "https://localhost:8080/"
    },
    "id": "ZnvhejXE8z5x",
    "outputId": "2d300e12-0a34-4aff-ff8d-c1f837d5deaa"
   },
   "outputs": [],
   "source": [
    "model(dummy_x)"
   ]
  },
  {
   "cell_type": "markdown",
   "metadata": {
    "id": "6m0rr8vllcV9"
   },
   "source": [
    "# Train data"
   ]
  },
  {
   "cell_type": "code",
   "execution_count": null,
   "metadata": {
    "id": "Et9hV_E480JZ"
   },
   "outputs": [],
   "source": [
    "# Import metrics\n",
    "from sklearn.metrics import accuracy_score, f1_score"
   ]
  },
  {
   "cell_type": "code",
   "execution_count": null,
   "metadata": {
    "id": "xa-GSB6l80V9"
   },
   "outputs": [],
   "source": [
    "# Import loss function and optimizers\n",
    "from torch.nn.modules.loss import CrossEntropyLoss\n",
    "loss_fn= CrossEntropyLoss()\n",
    "optimizer= torch.optim.SGD(model.parameters(), lr= 0.1, weight_decay=0)"
   ]
  },
  {
   "cell_type": "markdown",
   "metadata": {
    "id": "AS3AnXFwm1j5"
   },
   "source": [
    "# Train Model"
   ]
  },
  {
   "cell_type": "code",
   "execution_count": null,
   "metadata": {
    "colab": {
     "base_uri": "https://localhost:8080/"
    },
    "id": "Ppocdsju80iS",
    "outputId": "486d6dfe-d85a-4e29-b939-d189ac518a15"
   },
   "outputs": [],
   "source": [
    "epoch= 500\n",
    "\n",
    "results= {\n",
    "      \"train_loss\": [],\n",
    "      \"train_accuracy\": [],\n",
    "      \"test_loss\": [],\n",
    "      \"test_accuracy\": []\n",
    "      }\n",
    "\n",
    "for i in range(epoch):\n",
    "  train_loss=0\n",
    "  train_acc=0\n",
    "  for batch, (X, y) in enumerate(train_dataloader):\n",
    "    X, y= X.to(device), y.to(device)\n",
    "    # Train the model\n",
    "    model.train()\n",
    "\n",
    "    optimizer.zero_grad()\n",
    "\n",
    "    y_logits= model(X)\n",
    "\n",
    "    # Calculate the loss\n",
    "    loss= loss_fn(y_logits, y)\n",
    "    train_loss += loss\n",
    "\n",
    "    # ypreds\n",
    "    y_preds= torch.argmax(torch.softmax(y_logits, dim=1), dim=1)\n",
    "    accuracy = accuracy_score(y, y_preds)\n",
    "    train_acc += accuracy\n",
    "\n",
    "    # zero grad\n",
    "    #optimizer.zero_grad()\n",
    "\n",
    "    # Loss backward\n",
    "    loss.backward()\n",
    "\n",
    "    # Optimizer step\n",
    "    optimizer.step()\n",
    "\n",
    "  train_loss /= len(train_dataloader)\n",
    "  train_acc /=len(train_dataloader)\n",
    "\n",
    "  test_loss = 0\n",
    "  test_acc=0\n",
    "  model.eval()\n",
    "  with torch.inference_mode():\n",
    "    for X, y in test_dataloader:\n",
    "      X, y= X.to(device), y.to(device)\n",
    "      y_logits= model(X)\n",
    "      loss= loss_fn(y_logits, y)\n",
    "      test_loss += loss\n",
    "      test_preds= torch.argmax(torch.softmax(y_logits, dim=1), dim=1)\n",
    "      accuracy = accuracy_score(y, test_preds)\n",
    "      test_acc += accuracy\n",
    "    test_loss /= len(test_dataloader)\n",
    "    test_acc /= len(test_dataloader)\n",
    "\n",
    "  results['train_loss'].append(train_loss.item())\n",
    "  results['train_accuracy'].append(train_acc.item())\n",
    "  results['test_loss'].append(test_loss.item())\n",
    "  results['test_accuracy'].append(test_acc.item())\n",
    "  if i % 50 == 0:\n",
    "    print(f\"\\nTrain loss: {train_loss:.5f} | Train Acc: {train_acc:.5f} | Test loss: {test_loss:.5f} | Test Acc: {test_acc:.5f} |\")\n"
   ]
  },
  {
   "cell_type": "code",
   "execution_count": null,
   "metadata": {
    "id": "nO9wqwy-80v2"
   },
   "outputs": [],
   "source": [
    "import matplotlib.pyplot as plt"
   ]
  },
  {
   "cell_type": "markdown",
   "metadata": {
    "id": "PVg5tmJ8m5oK"
   },
   "source": [
    "# Plot Loss Curve"
   ]
  },
  {
   "cell_type": "code",
   "execution_count": null,
   "metadata": {
    "colab": {
     "base_uri": "https://localhost:8080/",
     "height": 468
    },
    "id": "ruvVWd05808i",
    "outputId": "edbdc8b3-ab06-4c92-a6db-0bac83fdbf8d"
   },
   "outputs": [],
   "source": [
    "plt.figure(figsize=(10,5))\n",
    "plt.subplot(1,2,1)\n",
    "plt.plot(results['train_loss'], label= 'train')\n",
    "plt.plot(results['test_loss'], label= 'test')\n",
    "plt.title('loss curve for train and test')\n",
    "plt.legend();\n",
    "plt.subplot(1,2,2)\n",
    "plt.plot(results['train_accuracy'], label= 'train')\n",
    "plt.plot(results['test_accuracy'], label= 'test')\n",
    "plt.title('accuracy score for train and test')\n",
    "plt.legend();"
   ]
  },
  {
   "cell_type": "markdown",
   "metadata": {
    "id": "LW-zloram-qS"
   },
   "source": [
    "# Evaluate Model With New Data"
   ]
  },
  {
   "cell_type": "code",
   "execution_count": null,
   "metadata": {
    "id": "udn69qsD-bLp"
   },
   "outputs": [],
   "source": [
    "new_data= 'I have been having burning pain anytime i am peeing, what could be the issue?'"
   ]
  },
  {
   "cell_type": "code",
   "execution_count": null,
   "metadata": {
    "colab": {
     "base_uri": "https://localhost:8080/"
    },
    "id": "fuOiFXhL-bvV",
    "outputId": "80c52b5c-d6ac-4260-a22c-096def5fffbc"
   },
   "outputs": [],
   "source": [
    "transformed_new= vectorizer.transform([new_data])\n",
    "transformed_new= torch.tensor(transformed_new.toarray()).to(torch.float32)\n",
    "transformed_new.shape"
   ]
  },
  {
   "cell_type": "code",
   "execution_count": null,
   "metadata": {
    "id": "ZSf_POgB-b8H"
   },
   "outputs": [],
   "source": [
    "model.eval()\n",
    "with torch.inference_mode():\n",
    "  y_logits=model(transformed_new)\n",
    "  test_preds= torch.argmax(torch.softmax(y_logits, dim=1), dim=1)\n",
    "  test_pred= target_dict[test_preds.item()]\n"
   ]
  },
  {
   "cell_type": "code",
   "execution_count": null,
   "metadata": {
    "colab": {
     "base_uri": "https://localhost:8080/"
    },
    "id": "oZBcgT0o-lpY",
    "outputId": "fa552ce8-c8c2-4e0a-c707-7b4e780aaabb"
   },
   "outputs": [],
   "source": [
    "print(f'based on your symptoms, I believe you are having {test_pred}')"
   ]
  },
  {
   "cell_type": "markdown",
   "metadata": {
    "id": "MnedOUcbnFQV"
   },
   "source": [
    "# Save Model State Dict"
   ]
  },
  {
   "cell_type": "code",
   "execution_count": null,
   "metadata": {
    "id": "f60umq-Z-pC1"
   },
   "outputs": [],
   "source": [
    "from pathlib import Path"
   ]
  },
  {
   "cell_type": "code",
   "execution_count": null,
   "metadata": {
    "id": "Tn467qOG-pRw"
   },
   "outputs": [],
   "source": [
    "target_dir_path = Path('Models')\n",
    "target_dir_path.mkdir(parents=True,\n",
    "                      exist_ok=True)\n",
    "model_path= target_dir_path / 'pretrained_symtom_to_disease_model.pth'\n",
    "torch.save(obj=model.state_dict(),f= model_path)"
   ]
  },
  {
   "cell_type": "code",
   "execution_count": null,
   "metadata": {
    "colab": {
     "base_uri": "https://localhost:8080/"
    },
    "id": "C_jzILVbvNX2",
    "outputId": "7220d1f1-fbd2-47d7-e588-3996d9dae1a7"
   },
   "outputs": [],
   "source": [
    "target_dict"
   ]
  },
  {
   "cell_type": "markdown",
   "metadata": {
    "id": "d32UI4vnnLSG"
   },
   "source": [
    "# Deploy Model"
   ]
  },
  {
   "cell_type": "code",
   "execution_count": null,
   "metadata": {
    "colab": {
     "base_uri": "https://localhost:8080/",
     "height": 712
    },
    "id": "otWWMGaZLimX",
    "outputId": "f46fbf9a-cc01-467c-f0ed-29d745091c20"
   },
   "outputs": [],
   "source": [
    "# Import and class names setup\n",
    "import gradio as gr\n",
    "import os\n",
    "import torch\n",
    "import random\n",
    "import nltk_utils\n",
    "import pandas as pd\n",
    "from sklearn.model_selection import train_test_split\n",
    "import time\n",
    "\n",
    "from model import RNN_model\n",
    "from timeit import default_timer as timer\n",
    "from typing import Tuple, Dict\n",
    "\n",
    "# Import data\n",
    "df= pd.read_csv('Symptom2Disease.csv')\n",
    "df.drop('Unnamed: 0', axis= 1, inplace= True)\n",
    "\n",
    "# Preprocess data\n",
    "df.drop_duplicates(inplace= True)\n",
    "train_data, test_data= train_test_split(df, test_size=0.15, random_state=42 )\n",
    "\n",
    "# Setup class names\n",
    "class_names= {0: 'Acne',\n",
    "              1: 'Arthritis',\n",
    "              2: 'Bronchial Asthma',\n",
    "              3: 'Cervical spondylosis',\n",
    "              4: 'Chicken pox',\n",
    "              5: 'Common Cold',\n",
    "              6: 'Dengue',\n",
    "              7: 'Dimorphic Hemorrhoids',\n",
    "              8: 'Fungal infection',\n",
    "              9: 'Hypertension',\n",
    "              10: 'Impetigo',\n",
    "              11: 'Jaundice',\n",
    "              12: 'Malaria',\n",
    "              13: 'Migraine',\n",
    "              14: 'Pneumonia',\n",
    "              15: 'Psoriasis',\n",
    "              16: 'Typhoid',\n",
    "              17: 'Varicose Veins',\n",
    "              18: 'allergy',\n",
    "              19: 'diabetes',\n",
    "              20: 'drug reaction',\n",
    "              21: 'gastroesophageal reflux disease',\n",
    "              22: 'peptic ulcer disease',\n",
    "              23: 'urinary tract infection'\n",
    "              }\n",
    "\n",
    "vectorizer= nltk_utils.vectorizer()\n",
    "vectorizer.fit(train_data.text)\n",
    "\n",
    "\n",
    "\n",
    "# Model and transforms preparation\n",
    "model= RNN_model()\n",
    "# Load state dict\n",
    "model.load_state_dict(torch.load(\n",
    "    f= '/content/Models/pretrained_symtom_to_disease_model.pth',\n",
    "    map_location= torch.device('cpu')\n",
    "    )\n",
    ")\n",
    "# Disease Advice\n",
    "disease_advice = {\n",
    "    'Acne': \"Maintain a proper skincare routine, avoid excessive touching of the affected areas, and consider using over-the-counter topical treatments. If severe, consult a dermatologist.\",\n",
    "    'Arthritis': \"Stay active with gentle exercises, manage weight, and consider pain-relief strategies like hot/cold therapy. Consult a rheumatologist for tailored guidance.\",\n",
    "    'Bronchial Asthma': \"Follow prescribed inhaler and medication regimen, avoid triggers like smoke and allergens, and have an asthma action plan. Regular check-ups with a pulmonologist are important.\",\n",
    "    'Cervical spondylosis': \"Maintain good posture, do neck exercises, and use ergonomic support. Physical therapy and pain management techniques might be helpful.\",\n",
    "    'Chicken pox': \"Rest, maintain hygiene, and avoid scratching. Consult a doctor for appropriate antiviral treatment.\",\n",
    "    'Common Cold': \"Get plenty of rest, stay hydrated, and consider over-the-counter remedies for symptom relief. Seek medical attention if symptoms worsen or last long.\",\n",
    "    'Dengue': \"Stay hydrated, rest, and manage fever with acetaminophen. Seek medical care promptly, as dengue can escalate quickly.\",\n",
    "    'Dimorphic Hemorrhoids': \"Follow a high-fiber diet, maintain good hygiene, and consider stool softeners. Consult a doctor if symptoms persist.\",\n",
    "    'Fungal infection': \"Keep the affected area clean and dry, use antifungal creams, and avoid sharing personal items. Consult a dermatologist if it persists.\",\n",
    "    'Hypertension': \"Follow a balanced diet, exercise regularly, reduce salt intake, and take prescribed medications. Regular check-ups with a healthcare provider are important.\",\n",
    "    'Impetigo': \"Keep the affected area clean, use prescribed antibiotics, and avoid close contact. Consult a doctor for proper treatment.\",\n",
    "    'Jaundice': \"Get plenty of rest, maintain hydration, and follow a doctor's advice for diet and medications. Regular monitoring is important.\",\n",
    "    'Malaria': \"Take prescribed antimalarial medications, rest, and manage fever. Seek medical attention for severe cases.\",\n",
    "    'Migraine': \"Identify triggers, manage stress, and consider pain-relief medications. Consult a neurologist for personalized management.\",\n",
    "    'Pneumonia': \"Follow prescribed antibiotics, rest, stay hydrated, and monitor symptoms. Seek immediate medical attention for severe cases.\",\n",
    "    'Psoriasis': \"Moisturize, use prescribed creams, and avoid triggers. Consult a dermatologist for effective management.\",\n",
    "    'Typhoid': \"Take prescribed antibiotics, rest, and stay hydrated. Dietary precautions are important. Consult a doctor for proper treatment.\",\n",
    "    'Varicose Veins': \"Elevate legs, exercise regularly, and wear compression stockings. Consult a vascular specialist for evaluation and treatment options.\",\n",
    "    'allergy': \"Identify triggers, manage exposure, and consider antihistamines. Consult an allergist for comprehensive management.\",\n",
    "    'diabetes': \"Follow a balanced diet, exercise, monitor blood sugar levels, and take prescribed medications. Regular visits to an endocrinologist are essential.\",\n",
    "    'drug reaction': \"Discontinue the suspected medication, seek medical attention if symptoms are severe, and inform healthcare providers about the reaction.\",\n",
    "    'gastroesophageal reflux disease': \"Follow dietary changes, avoid large meals, and consider medications. Consult a doctor for personalized management.\",\n",
    "    'peptic ulcer disease': \"Avoid spicy and acidic foods, take prescribed medications, and manage stress. Consult a gastroenterologist for guidance.\",\n",
    "    'urinary tract infection': \"Stay hydrated, take prescribed antibiotics, and maintain good hygiene. Consult a doctor for appropriate treatment.\"\n",
    "}\n",
    "\n",
    "howto= \"\"\"Welcome to the <b>Medical Chatbot</b>, powered by Gradio.\n",
    "Currently, the chatbot can WELCOME YOU, PREDICT DISEASE based on your symptoms and SUGGEST POSSIBLE SOLUTIONS AND RECOMENDATIONS, and BID YOU FAREWELL.\n",
    "<br><br>\n",
    "Here's a quick guide to get you started:<br><br>\n",
    "<b>How to Start:</b> Simply type your messages in the textbox to chat with the Chatbot and press enter!<br><br>\n",
    "The bot will respond based on the best possible answers to your messages. For now, let's keep it SIMPLE as I'm working hard to enhance its capabilities in the future.\n",
    "\n",
    "\"\"\"\n",
    "\n",
    "\n",
    "# Create the gradio demo\n",
    "with gr.Blocks(css = \"\"\"#col_container { margin-left: auto; margin-right: auto;} #chatbot {height: 520px; overflow: auto;}\"\"\") as demo:\n",
    "  gr.HTML('<h1 align=\"center\">Medical Chatbot: Your Virtual Health Guide 🌟🏥🤖\"</h1>')\n",
    "  gr.HTML('<h3 align=\"center\">To know more about this project click, <a href=\"https://github.com/Monsurat-Onabajo/Medical_chatbot\" target=\"_blank\">Here</a>')\n",
    "  with gr.Accordion(\"Follow these Steps to use the Gradio WebUI\", open=True):\n",
    "      gr.HTML(howto)\n",
    "  chatbot = gr.Chatbot()\n",
    "  msg = gr.Textbox()\n",
    "  clear = gr.ClearButton([msg, chatbot])\n",
    "\n",
    "  def respond(message, chat_history):\n",
    "    # Random greetings in list format\n",
    "    greetings = [\n",
    "        \"hello!\",'hello', 'hii !', 'hi', \"hi there!\",  \"hi there!\", \"heyy\", 'good morning', 'good afternoon', 'good evening'\n",
    "        \"hey\", \"how are you\", \"how are you?\", \"how is it going\", \"how is it going?\",\n",
    "        \"what's up?\", \"how are you?\",\n",
    "        \"hey, how are you?\", \"what is popping\"\n",
    "        \"good to see you!\", \"howdy!\",\n",
    "        \"hi, nice to meet you.\", \"hiya!\",\n",
    "        \"hi\", \"hi, what's new?\",\n",
    "        \"hey, how's your day?\", \"hi, how have you been?\", \"greetings\",\n",
    "        ]\n",
    "    # Random Greetings responses\n",
    "    responses = [\n",
    "        \"Thank you for using our medical chatbot. Please provide the symptoms you're experiencing, and I'll do my best to predict the possible disease.\",\n",
    "        \"Hello! I'm here to help you with medical predictions based on your symptoms. Please describe your symptoms in as much detail as possible.\",\n",
    "        \"Greetings! I am a specialized medical chatbot trained to predict potential diseases based on the symptoms you provide. Kindly list your symptoms explicitly.\",\n",
    "        \"Welcome to the medical chatbot. To assist you accurately, please share your symptoms in explicit detail.\",\n",
    "        \"Hi there! I'm a medical chatbot specialized in analyzing symptoms to suggest possible diseases. Please provide your symptoms explicitly.\",\n",
    "        \"Hey! I'm your medical chatbot. Describe your symptoms with as much detail as you can, and I'll generate potential disease predictions.\",\n",
    "        \"How can I assist you today? I'm a medical chatbot trained to predict diseases based on symptoms. Please be explicit while describing your symptoms.\",\n",
    "        \"Hello! I'm a medical chatbot capable of predicting diseases based on the symptoms you provide. Your explicit symptom description will help me assist you better.\",\n",
    "        \"Greetings! I'm here to help with medical predictions. Describe your symptoms explicitly, and I'll offer insights into potential diseases.\",\n",
    "        \"Hi, I'm the medical chatbot. I've been trained to predict diseases from symptoms. The more explicit you are about your symptoms, the better I can assist you.\",\n",
    "        \"Hi, I specialize in medical predictions based on symptoms. Kindly provide detailed symptoms for accurate disease predictions.\",\n",
    "        \"Hello! I'm a medical chatbot with expertise in predicting diseases from symptoms. Please describe your symptoms explicitly to receive accurate insights.\",\n",
    "        ]\n",
    "    # Random goodbyes\n",
    "    goodbyes = [\n",
    "        \"farewell!\",'bye', 'goodbye','good-bye', 'good bye', 'bye', 'thank you', 'later', \"take care!\",\n",
    "        \"see you later!\", 'see you', 'see ya', 'see-you', 'thanks', 'thank', 'bye bye', 'byebye'\n",
    "        \"catch you on the flip side!\", \"adios!\",\n",
    "        \"goodbye for now!\", \"till we meet again!\",\n",
    "        \"so long!\", \"hasta la vista!\",\n",
    "        \"bye-bye!\", \"keep in touch!\",\n",
    "        \"toodles!\", \"ciao!\",\n",
    "        \"later, gator!\", \"stay safe and goodbye!\",\n",
    "        \"peace out!\", \"until next time!\", \"off I go!\",\n",
    "        ]\n",
    "    # Random Goodbyes responses\n",
    "    goodbye_replies = [\n",
    "        \"Take care of yourself! If you have more questions, don't hesitate to reach out.\",\n",
    "        \"Stay well! Remember, I'm here if you need further medical advice.\",\n",
    "        \"Goodbye for now! Don't hesitate to return if you need more information in the future.\",\n",
    "        \"Wishing you good health ahead! Feel free to come back if you have more concerns.\",\n",
    "        \"Farewell! If you have more symptoms or questions, don't hesitate to consult again.\",\n",
    "        \"Take care and stay informed about your health. Feel free to chat anytime.\",\n",
    "        \"Bye for now! Remember, your well-being is a priority. Don't hesitate to ask if needed.\",\n",
    "        \"Have a great day ahead! If you need medical guidance later on, I'll be here.\",\n",
    "        \"Stay well and take it easy! Reach out if you need more medical insights.\",\n",
    "        \"Until next time! Prioritize your health and reach out if you need assistance.\",\n",
    "        \"Goodbye! Your health matters. Feel free to return if you have more health-related queries.\",\n",
    "        \"Stay healthy and stay curious about your health! If you need more info, just ask.\",\n",
    "        \"Wishing you wellness on your journey! If you have more questions, I'm here to help.\",\n",
    "        \"Take care and remember, your health is important. Don't hesitate to reach out if needed.\",\n",
    "        \"Goodbye for now! Stay informed and feel free to consult if you require medical advice.\",\n",
    "        \"Stay well and stay proactive about your health! If you have more queries, feel free to ask.\",\n",
    "        \"Farewell! Remember, I'm here whenever you need reliable medical information.\",\n",
    "        \"Bye for now! Stay vigilant about your health and don't hesitate to return if necessary.\",\n",
    "        \"Take care and keep your well-being a priority! Reach out if you have more health questions.\",\n",
    "        \"Wishing you good health ahead! Don't hesitate to chat if you need medical insights.\",\n",
    "        \"Goodbye! Stay well and remember, I'm here to assist you with medical queries.\",\n",
    "    ]\n",
    "\n",
    "    # Create couple of if-else statements to capture/mimick peoples's Interaction\n",
    "    if message.lower() in greetings:\n",
    "      bot_message= random.choice(responses)\n",
    "    elif message.lower() in goodbyes:\n",
    "      bot_message= random.choice(goodbye_replies)\n",
    "    else:\n",
    "      transform_text= vectorizer.transform([message])\n",
    "      transform_text= torch.tensor(transform_text.toarray()).to(torch.float32)\n",
    "      model.eval()\n",
    "      with torch.inference_mode():\n",
    "        y_logits=model(transform_text)\n",
    "        pred_prob= torch.argmax(torch.softmax(y_logits, dim=1), dim=1)\n",
    "\n",
    "      test_pred= class_names[pred_prob.item()]\n",
    "      bot_message = f' Based on your symptoms, I believe you are having {test_pred} and I would advice you {disease_advice[test_pred]}'\n",
    "    chat_history.append((message, bot_message))\n",
    "    time.sleep(2)\n",
    "    return \"\", chat_history\n",
    "\n",
    "  msg.submit(respond, [msg, chatbot], [msg, chatbot])\n",
    "# Launch the demo\n",
    "demo.launch()\n",
    "\n"
   ]
  },
  {
   "cell_type": "code",
   "execution_count": null,
   "metadata": {
    "id": "FsgtBKB0v-ub"
   },
   "outputs": [],
   "source": []
  }
 ],
 "metadata": {
  "colab": {
   "authorship_tag": "ABX9TyMHvKnYH1nV6+05sjz3ESPf",
   "provenance": []
  },
  "kernelspec": {
   "display_name": "Python 3 (ipykernel)",
   "language": "python",
   "name": "python3"
  },
  "language_info": {
   "codemirror_mode": {
    "name": "ipython",
    "version": 3
   },
   "file_extension": ".py",
   "mimetype": "text/x-python",
   "name": "python",
   "nbconvert_exporter": "python",
   "pygments_lexer": "ipython3",
   "version": "3.11.5"
  }
 },
 "nbformat": 4,
 "nbformat_minor": 4
}
